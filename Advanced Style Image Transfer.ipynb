{
 "cells": [
  {
   "cell_type": "markdown",
   "metadata": {},
   "source": [
    "# Image Style Transfer using a Neural Network"
   ]
  },
  {
   "cell_type": "markdown",
   "metadata": {},
   "source": [
    "In this notebook, you will learn how to use a neural network to copy the artistic style of one photo onto another. You will need a input image and a style image. "
   ]
  },
  {
   "cell_type": "markdown",
   "metadata": {},
   "source": [
    "First we import our pre-trained neural network model along with helper functions."
   ]
  },
  {
   "cell_type": "code",
   "execution_count": null,
   "metadata": {},
   "outputs": [],
   "source": [
    "import TorchModel as model"
   ]
  },
  {
   "cell_type": "markdown",
   "metadata": {},
   "source": [
    "Then we load our Input image (the image we want to transform)."
   ]
  },
  {
   "cell_type": "code",
   "execution_count": null,
   "metadata": {},
   "outputs": [],
   "source": [
    "content_img = model.image_loader('img/chicago.jpg')"
   ]
  },
  {
   "cell_type": "code",
   "execution_count": null,
   "metadata": {},
   "outputs": [],
   "source": [
    "model.imshow(content_img, title='Input Image')"
   ]
  },
  {
   "cell_type": "markdown",
   "metadata": {},
   "source": [
    "Next we load the Style image (the image whose artistic style we want to copy)."
   ]
  },
  {
   "cell_type": "code",
   "execution_count": null,
   "metadata": {},
   "outputs": [],
   "source": [
    "style_img = model.image_loader('img/starry_night.jpg')\n",
    "model.imshow(style_img, title='Style Image')"
   ]
  },
  {
   "cell_type": "markdown",
   "metadata": {},
   "source": [
    "Now we train the neural network to learn the style of the Style image and apply it to our Input image. As the neural network learns, the error gets smaller. We call this error \"Loss\". "
   ]
  },
  {
   "cell_type": "code",
   "execution_count": null,
   "metadata": {},
   "outputs": [],
   "source": [
    "import time\n",
    "\n",
    "start = time.time()\n",
    "style_img = model.match_size(style_img, content_img)\n",
    "input_img = content_img.clone()\n",
    "output, model_trained = model.run_style_transfer(model.cnn, model.cnn_normalization_mean, model.cnn_normalization_std,\n",
    "                            content_img, style_img, input_img)\n",
    "\n",
    "model.imshow(output, title='Output Image')\n",
    "\n",
    "end = time.time()\n",
    "print(end - start)"
   ]
  },
  {
   "cell_type": "code",
   "execution_count": null,
   "metadata": {},
   "outputs": [],
   "source": [
    "# This command will show your image\n",
    "#model.imshow(output, title='Output Image')"
   ]
  },
  {
   "cell_type": "markdown",
   "metadata": {},
   "source": [
    "We need to turn the output seen above into a jpg format before we can save it to disk."
   ]
  },
  {
   "cell_type": "code",
   "execution_count": null,
   "metadata": {},
   "outputs": [],
   "source": [
    "jpg_img = model.return_jpg(output)"
   ]
  },
  {
   "cell_type": "code",
   "execution_count": null,
   "metadata": {},
   "outputs": [],
   "source": [
    "jpg_img.save('img/style_transfer_output.jpg')"
   ]
  },
  {
   "cell_type": "markdown",
   "metadata": {},
   "source": [
    "Now try it on your own input and style images! Feel free to use any input and style image you want. Use the cells below for your work and feel free to copy and paste code from above."
   ]
  },
  {
   "cell_type": "code",
   "execution_count": null,
   "metadata": {},
   "outputs": [],
   "source": [
    "# your code here:"
   ]
  },
  {
   "cell_type": "code",
   "execution_count": null,
   "metadata": {},
   "outputs": [],
   "source": [
    "# your code here:"
   ]
  },
  {
   "cell_type": "code",
   "execution_count": null,
   "metadata": {},
   "outputs": [],
   "source": [
    "# your code here:"
   ]
  },
  {
   "cell_type": "code",
   "execution_count": null,
   "metadata": {},
   "outputs": [],
   "source": [
    "# your code here:"
   ]
  },
  {
   "cell_type": "markdown",
   "metadata": {},
   "source": [
    "# Challenge: \n",
    "\n",
    "Given everything you've learned today, create your own image filter. Be creative and turn in your final result to show to the class. Be prepared to describe how you made it. We will judge the final output based on complexity and coolness of the final image!\n",
    "\n",
    "Remember you can:\n",
    "\n",
    "- rotate  - <font color='green'>1 point </font>\n",
    "- resize  - <font color='green'>2 points </font>\n",
    "- crop    - <font color='green'>3 points </font>\n",
    "- brighten / darken   - <font color='green'>5 points </font>\n",
    "- color filter        - <font color='green'>7 points </font>\n",
    "- conditional color filter   - <font color='green'>15 points </font>\n",
    "- morph image styles         - <font color='green'>15 points </font>\n",
    "\n"
   ]
  },
  {
   "cell_type": "code",
   "execution_count": null,
   "metadata": {},
   "outputs": [],
   "source": []
  }
 ],
 "metadata": {
  "kernelspec": {
   "display_name": "Python 3",
   "language": "python",
   "name": "python3"
  },
  "language_info": {
   "codemirror_mode": {
    "name": "ipython",
    "version": 3
   },
   "file_extension": ".py",
   "mimetype": "text/x-python",
   "name": "python",
   "nbconvert_exporter": "python",
   "pygments_lexer": "ipython3",
   "version": "3.7.6"
  }
 },
 "nbformat": 4,
 "nbformat_minor": 2
}
