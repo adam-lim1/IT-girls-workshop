{
 "cells": [
  {
   "cell_type": "markdown",
   "metadata": {},
   "source": [
    "# Syracuse It Girls Workshop: Image Manipulation\n",
    "_8/2/21_"
   ]
  },
  {
   "cell_type": "markdown",
   "metadata": {},
   "source": [
    "In this notebook, you will learn how to:\n",
    "\n",
    "1. Load and visualize images\n",
    "2. Understand images are arrays of numbers; they can be indexed and sliced\n",
    "3. Rotate, resize, and crop an image\n",
    "4. Create and apply your own color filters to an image"
   ]
  },
  {
   "cell_type": "markdown",
   "metadata": {},
   "source": [
    "## Import Packages"
   ]
  },
  {
   "cell_type": "code",
   "execution_count": null,
   "metadata": {},
   "outputs": [],
   "source": [
    "from PIL import Image\n",
    "import numpy as np"
   ]
  },
  {
   "cell_type": "markdown",
   "metadata": {},
   "source": [
    "## Load / Display Image"
   ]
  },
  {
   "cell_type": "code",
   "execution_count": null,
   "metadata": {},
   "outputs": [],
   "source": [
    "#Load image and store it in variable \"picture\"\n",
    "picture = Image.open(\"img/trees.jpg\")"
   ]
  },
  {
   "cell_type": "code",
   "execution_count": null,
   "metadata": {},
   "outputs": [],
   "source": [
    "#Display image\n",
    "picture"
   ]
  },
  {
   "cell_type": "code",
   "execution_count": null,
   "metadata": {},
   "outputs": [],
   "source": [
    "#Print Additional Information about the picture\n",
    "print(\"Number Bits: \" + str(picture.bits) + \"\\n\", \n",
    "      \"Picture Size: \" + str(picture.size) + \"\\n\",\n",
    "      \"Picture Format: \" + picture.format)"
   ]
  },
  {
   "cell_type": "markdown",
   "metadata": {},
   "source": [
    "## Picture Manipulation"
   ]
  },
  {
   "cell_type": "code",
   "execution_count": null,
   "metadata": {},
   "outputs": [],
   "source": [
    "#Rotate image\n",
    "picture.rotate(45)"
   ]
  },
  {
   "cell_type": "markdown",
   "metadata": {},
   "source": [
    "### Question: Write code below to rotate the picture 190 degrees"
   ]
  },
  {
   "cell_type": "code",
   "execution_count": null,
   "metadata": {},
   "outputs": [],
   "source": [
    "# your code here:"
   ]
  },
  {
   "cell_type": "markdown",
   "metadata": {},
   "source": [
    "### Question: Write code below to rotate the picture 76 degrees the opposite direction"
   ]
  },
  {
   "cell_type": "code",
   "execution_count": null,
   "metadata": {},
   "outputs": [],
   "source": [
    "# your code here:"
   ]
  },
  {
   "cell_type": "code",
   "execution_count": null,
   "metadata": {},
   "outputs": [],
   "source": [
    "#Resize image\n",
    "picture.resize([200,200])"
   ]
  },
  {
   "cell_type": "code",
   "execution_count": null,
   "metadata": {},
   "outputs": [],
   "source": [
    "#Permanently resize image\n",
    "new_picture = picture.resize([200,200])\n",
    "\n",
    "#Display new picture size\n",
    "new_picture.size"
   ]
  },
  {
   "cell_type": "markdown",
   "metadata": {},
   "source": [
    "### Question: Write code below to make the image half as wide, and half as tall"
   ]
  },
  {
   "cell_type": "code",
   "execution_count": null,
   "metadata": {},
   "outputs": [],
   "source": [
    "# your code here:"
   ]
  },
  {
   "cell_type": "markdown",
   "metadata": {},
   "source": [
    "## Color Manipulation"
   ]
  },
  {
   "cell_type": "code",
   "execution_count": null,
   "metadata": {},
   "outputs": [],
   "source": [
    "#Grey-scale an image (the easy way)\n",
    "picture.convert(\"L\")"
   ]
  },
  {
   "cell_type": "markdown",
   "metadata": {},
   "source": [
    "## Images are really just lists of numbers"
   ]
  },
  {
   "cell_type": "code",
   "execution_count": null,
   "metadata": {},
   "outputs": [],
   "source": [
    "#Convert picture to array \n",
    "arr = np.array(picture)\n",
    "arr"
   ]
  },
  {
   "cell_type": "markdown",
   "metadata": {},
   "source": [
    "## Cropping an Image"
   ]
  },
  {
   "cell_type": "markdown",
   "metadata": {},
   "source": [
    "Now we know images are just arrays of numbers. So we can slice that array to crop an image.\n",
    "Below we crop an image vertically"
   ]
  },
  {
   "cell_type": "code",
   "execution_count": null,
   "metadata": {},
   "outputs": [],
   "source": [
    "cropped_y = arr[:200]\n",
    "im = Image.fromarray(cropped_y)\n",
    "im"
   ]
  },
  {
   "cell_type": "code",
   "execution_count": null,
   "metadata": {},
   "outputs": [],
   "source": [
    "cropped_x = arr[:,:200]\n",
    "im = Image.fromarray(cropped_x)\n",
    "im"
   ]
  },
  {
   "cell_type": "markdown",
   "metadata": {},
   "source": [
    "### Question: Crop the image to get the first 100 rows and columns"
   ]
  },
  {
   "cell_type": "code",
   "execution_count": null,
   "metadata": {},
   "outputs": [],
   "source": [
    "# your code here:"
   ]
  },
  {
   "cell_type": "markdown",
   "metadata": {},
   "source": [
    "Food for thought: How would you expect the original array of numbers to have changed after cropping? Try displaying it again."
   ]
  },
  {
   "cell_type": "code",
   "execution_count": null,
   "metadata": {},
   "outputs": [],
   "source": [
    "#Brighten the image (multiply all pixels by 2.5)\n",
    "# The \"point\" function applies some function to every pixel in the image. The function below multiplies every pixel by 2.5. \n",
    "# This makes the image brighter\n",
    "\n",
    "picture.point(lambda i: i * 2.5)"
   ]
  },
  {
   "cell_type": "markdown",
   "metadata": {},
   "source": [
    "### Question: Write code to darken the picture"
   ]
  },
  {
   "cell_type": "code",
   "execution_count": null,
   "metadata": {},
   "outputs": [],
   "source": [
    "# your code here:"
   ]
  },
  {
   "cell_type": "markdown",
   "metadata": {},
   "source": [
    "## More Complex Transformations"
   ]
  },
  {
   "cell_type": "markdown",
   "metadata": {},
   "source": [
    "Color images are made up of Red, Green, and Blue filters. When combined, they generate the image that you see. This means we can split an image into its Red, Green, and Blue components separately.\n",
    "\n",
    "Below we change the Blue filter to change the appearance of the original image."
   ]
  },
  {
   "cell_type": "code",
   "execution_count": null,
   "metadata": {},
   "outputs": [],
   "source": [
    "#Split Image into individual color bands\n",
    "source = picture.split()\n",
    "R, G, B = 0,1,2\n",
    "\n",
    "#Create new filter will higher blue values\n",
    "more_blue = source[B].point(lambda i: 200)\n",
    "\n",
    "#Paste new filter into original filters\n",
    "source[B].paste(more_blue)\n",
    "\n",
    "#Reconstruct image with new filters\n",
    "image = Image.merge(picture.mode,source)\n",
    "\n",
    "#Display new image\n",
    "image"
   ]
  },
  {
   "cell_type": "markdown",
   "metadata": {},
   "source": [
    "### Question: Write code to apply a green filter over the picture"
   ]
  },
  {
   "cell_type": "code",
   "execution_count": null,
   "metadata": {},
   "outputs": [],
   "source": [
    "# your code here:"
   ]
  },
  {
   "cell_type": "markdown",
   "metadata": {},
   "source": [
    "## Conditional Color Manipulation"
   ]
  },
  {
   "cell_type": "code",
   "execution_count": null,
   "metadata": {},
   "outputs": [],
   "source": [
    "#Change color values conditionally\n",
    "#Increase green colors, only where these is low red color (less than 150)\n",
    "\n",
    "source = picture.split()\n",
    "R, G, B = 0,1,2\n",
    "\n",
    "# select regions where red is less than 150\n",
    "condition = source[R].point(lambda i: i < 150 and 255)\n",
    "\n",
    "# process the green band\n",
    "out = source[G].point(lambda i: i * 1.5)\n",
    "\n",
    "# paste the processed band back, but only where red was < 150\n",
    "source[G].paste(out, None, condition)\n",
    "\n",
    "# build a new multiband image\n",
    "image = Image.merge(picture.mode, source)\n",
    "\n",
    "image"
   ]
  },
  {
   "cell_type": "code",
   "execution_count": null,
   "metadata": {},
   "outputs": [],
   "source": []
  }
 ],
 "metadata": {
  "kernelspec": {
   "display_name": "Python 3",
   "language": "python",
   "name": "python3"
  },
  "language_info": {
   "codemirror_mode": {
    "name": "ipython",
    "version": 3
   },
   "file_extension": ".py",
   "mimetype": "text/x-python",
   "name": "python",
   "nbconvert_exporter": "python",
   "pygments_lexer": "ipython3",
   "version": "3.7.6"
  }
 },
 "nbformat": 4,
 "nbformat_minor": 1
}
